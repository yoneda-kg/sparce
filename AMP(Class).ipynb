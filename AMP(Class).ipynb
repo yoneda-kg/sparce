{
  "nbformat": 4,
  "nbformat_minor": 0,
  "metadata": {
    "colab": {
      "provenance": [],
      "authorship_tag": "ABX9TyOpqfmC+vXM/mak6OPRdAx9",
      "include_colab_link": true
    },
    "kernelspec": {
      "name": "python3",
      "display_name": "Python 3"
    },
    "language_info": {
      "name": "python"
    }
  },
  "cells": [
    {
      "cell_type": "markdown",
      "metadata": {
        "id": "view-in-github",
        "colab_type": "text"
      },
      "source": [
        "<a href=\"https://colab.research.google.com/github/yoneda-kg/sparce/blob/main/AMP(Class).ipynb\" target=\"_parent\"><img src=\"https://colab.research.google.com/assets/colab-badge.svg\" alt=\"Open In Colab\"/></a>"
      ]
    },
    {
      "cell_type": "code",
      "execution_count": null,
      "metadata": {
        "id": "V_m0kRIC_rVL"
      },
      "outputs": [],
      "source": [
        "class AMP(ISTA):\n",
        "    def __init__(self, A, x, sigma):\n",
        "      super().__init__(A, x, sigma)\n",
        "      self.tau=np.array([None])\n",
        "\n",
        "    def estimate(self, T=20):\n",
        "      Onsager=np.zeros((self.M, 1))\n",
        "      for _ in range(T):\n",
        "        r=self._update_r()\n",
        "        w=self._update_w(r+Onsager)\n",
        "        tau=self._update_tau(r+Onsager)\n",
        "        self.s=self._update_s(w, tau)\n",
        "        Onsager=np.sum(self.s != 0)/self.M*(r+Onsager) #Onsager項のつけ方がよくわからない\n",
        "        self.mse=self._add_mse()\n",
        "\n",
        "\n",
        "    def _update_w(self, r):\n",
        "       return self.s+np.dot(self.AT, r)\n",
        "\n",
        "    def _update_tau(self, r):\n",
        "        tau = np.linalg.norm(r)**2 / self.M\n",
        "        #tau = v / self.a + self.sigma\n",
        "        np.append(self.tau, tau)\n",
        "        return tau\n",
        "\n",
        "    def _update_s(self, w, tau):\n",
        "      return soft_threshold(w, pow(tau, 0.5))\n",
        "\n",
        "    def result_AMP1(self):\n",
        "      plt.plot(self.x.real, color=\"b\")\n",
        "      plt.grid()\n",
        "\n",
        "    def result_AMP_MSE(self):\n",
        "      MSE=[]\n",
        "      MSE=np.append(MSE, self.mse)\n",
        "      print(MSE)\n",
        "      Figure, ax = plt.subplots()#グラフオブジェクトを生成\n",
        "      plt.grid()\n",
        "      plt.yscale('log')\n",
        "      plt.plot(MSE)\n",
        "      ax.set_ylim([0.000001,10])\n",
        "      plt.xticks(np.arange(1, T+1, step=1))\n",
        "      plt.xlabel(\"iteration\")\n",
        "      plt.ylabel(\"MSE\")"
      ]
    }
  ]
}