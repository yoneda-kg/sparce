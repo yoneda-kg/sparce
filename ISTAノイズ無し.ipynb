{
  "nbformat": 4,
  "nbformat_minor": 0,
  "metadata": {
    "colab": {
      "provenance": [],
      "authorship_tag": "ABX9TyPKdQN/RoHpgEv4S5LFtWNz",
      "include_colab_link": true
    },
    "kernelspec": {
      "name": "python3",
      "display_name": "Python 3"
    },
    "language_info": {
      "name": "python"
    }
  },
  "cells": [
    {
      "cell_type": "markdown",
      "metadata": {
        "id": "view-in-github",
        "colab_type": "text"
      },
      "source": [
        "<a href=\"https://colab.research.google.com/github/yoneda-kg/sparce/blob/main/ISTA%E3%83%8E%E3%82%A4%E3%82%BA%E7%84%A1%E3%81%97.ipynb\" target=\"_parent\"><img src=\"https://colab.research.google.com/assets/colab-badge.svg\" alt=\"Open In Colab\"/></a>"
      ]
    },
    {
      "cell_type": "markdown",
      "source": [
        "https://gist.github.com/agramfort/ac52a57dc6551138e89b\n",
        "\n",
        "\n",
        "agramfort/lasso_ista_fista.py\n",
        "\n",
        "https://maea2.hatenablog.com/entry/2017/03/06/235519\n",
        "\n",
        "はてなblog"
      ],
      "metadata": {
        "id": "dOAayZR7XZ9N"
      }
    },
    {
      "cell_type": "code",
      "source": [
        "import numpy as np\n",
        "from scipy.stats import norm\n",
        "import matplotlib.pyplot as plt\n",
        "import random"
      ],
      "metadata": {
        "id": "EDVoSk7RHfah"
      },
      "execution_count": null,
      "outputs": []
    },
    {
      "cell_type": "code",
      "source": [
        "M= 15 # 観測ベクトル次元\n",
        "N= 30 # 元信号ベクトル次元\n",
        "# 観測行列を生成\n",
        "A=np.random.randn(M,N)\n",
        "# スパースな原信号ベクトルを生成\n",
        "x0 = np.random.rand(N)\n",
        "x0[x0 < 0.9] = 0\n",
        "#観測ベクトルを生成\n",
        "y=A.dot(x0)\n",
        "A_T=A.transpose()\n",
        "Lambda=0.5"
      ],
      "metadata": {
        "id": "l393il43HoWh"
      },
      "execution_count": null,
      "outputs": []
    },
    {
      "cell_type": "code",
      "source": [
        "def soft_thresh(x, Lambda):\n",
        "    return np.sign(x) * np.maximum(np.abs(x) - Lambda, 0.)"
      ],
      "metadata": {
        "id": "ZiQkqRcvLR8r"
      },
      "execution_count": null,
      "outputs": []
    },
    {
      "cell_type": "code",
      "source": [
        "def ista(A, y, Lambda, maxit):\n",
        "    x = np.zeros(A.shape[1])\n",
        "    L=np.linalg.norm(A_T.dot(A),ord=2)/Lambda # Lipschitz constant\n",
        "    for _ in range(maxit):\n",
        "        x = soft_thresh(x + np.dot(A.T, y - A.dot(x)) / L, Lambda / L)\n",
        "    return x"
      ],
      "metadata": {
        "id": "PB_GSY-sLWkG"
      },
      "execution_count": null,
      "outputs": []
    },
    {
      "cell_type": "code",
      "source": [
        "maxit=3000\n",
        "x_ista=ista(A, y, Lambda, maxit)"
      ],
      "metadata": {
        "id": "-CI2y_6sMjn8"
      },
      "execution_count": null,
      "outputs": []
    },
    {
      "cell_type": "code",
      "source": [
        "plt.figure()\n",
        "plt.stem(x0, markerfmt='go')\n",
        "plt.stem(x_ista, markerfmt='ro')"
      ],
      "metadata": {
        "colab": {
          "base_uri": "https://localhost:8080/",
          "height": 448
        },
        "id": "x3E9O1DNM11g",
        "outputId": "8ab5b202-546f-45ad-869d-4e88654de1b6"
      },
      "execution_count": null,
      "outputs": [
        {
          "output_type": "execute_result",
          "data": {
            "text/plain": [
              "<StemContainer object of 3 artists>"
            ]
          },
          "metadata": {},
          "execution_count": 83
        },
        {
          "output_type": "display_data",
          "data": {
            "text/plain": [
              "<Figure size 640x480 with 1 Axes>"
            ],
            "image/png": "[encoded data removed]"
          },
          "metadata": {}
        }
      ]
    }
  ]
}